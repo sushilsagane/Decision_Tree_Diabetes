{
 "cells": [
  {
   "cell_type": "code",
   "execution_count": 1,
   "metadata": {},
   "outputs": [],
   "source": [
    "import pandas as pd\n",
    "import numpy as np"
   ]
  },
  {
   "cell_type": "code",
   "execution_count": 2,
   "metadata": {},
   "outputs": [
    {
     "data": {
      "text/html": [
       "<div>\n",
       "<style scoped>\n",
       "    .dataframe tbody tr th:only-of-type {\n",
       "        vertical-align: middle;\n",
       "    }\n",
       "\n",
       "    .dataframe tbody tr th {\n",
       "        vertical-align: top;\n",
       "    }\n",
       "\n",
       "    .dataframe thead th {\n",
       "        text-align: right;\n",
       "    }\n",
       "</style>\n",
       "<table border=\"1\" class=\"dataframe\">\n",
       "  <thead>\n",
       "    <tr style=\"text-align: right;\">\n",
       "      <th></th>\n",
       "      <th>Pregnancies</th>\n",
       "      <th>Glucose</th>\n",
       "      <th>BloodPressure</th>\n",
       "      <th>SkinThickness</th>\n",
       "      <th>Insulin</th>\n",
       "      <th>BMI</th>\n",
       "      <th>DiabetesPedigreeFunction</th>\n",
       "      <th>Age</th>\n",
       "      <th>Outcome</th>\n",
       "    </tr>\n",
       "  </thead>\n",
       "  <tbody>\n",
       "    <tr>\n",
       "      <th>0</th>\n",
       "      <td>6</td>\n",
       "      <td>148</td>\n",
       "      <td>72</td>\n",
       "      <td>35</td>\n",
       "      <td>0</td>\n",
       "      <td>33.6</td>\n",
       "      <td>0.627</td>\n",
       "      <td>50</td>\n",
       "      <td>1</td>\n",
       "    </tr>\n",
       "    <tr>\n",
       "      <th>1</th>\n",
       "      <td>1</td>\n",
       "      <td>85</td>\n",
       "      <td>66</td>\n",
       "      <td>29</td>\n",
       "      <td>0</td>\n",
       "      <td>26.6</td>\n",
       "      <td>0.351</td>\n",
       "      <td>31</td>\n",
       "      <td>0</td>\n",
       "    </tr>\n",
       "    <tr>\n",
       "      <th>2</th>\n",
       "      <td>8</td>\n",
       "      <td>183</td>\n",
       "      <td>64</td>\n",
       "      <td>0</td>\n",
       "      <td>0</td>\n",
       "      <td>23.3</td>\n",
       "      <td>0.672</td>\n",
       "      <td>32</td>\n",
       "      <td>1</td>\n",
       "    </tr>\n",
       "    <tr>\n",
       "      <th>3</th>\n",
       "      <td>1</td>\n",
       "      <td>89</td>\n",
       "      <td>66</td>\n",
       "      <td>23</td>\n",
       "      <td>94</td>\n",
       "      <td>28.1</td>\n",
       "      <td>0.167</td>\n",
       "      <td>21</td>\n",
       "      <td>0</td>\n",
       "    </tr>\n",
       "    <tr>\n",
       "      <th>4</th>\n",
       "      <td>0</td>\n",
       "      <td>137</td>\n",
       "      <td>40</td>\n",
       "      <td>35</td>\n",
       "      <td>168</td>\n",
       "      <td>43.1</td>\n",
       "      <td>2.288</td>\n",
       "      <td>33</td>\n",
       "      <td>1</td>\n",
       "    </tr>\n",
       "    <tr>\n",
       "      <th>...</th>\n",
       "      <td>...</td>\n",
       "      <td>...</td>\n",
       "      <td>...</td>\n",
       "      <td>...</td>\n",
       "      <td>...</td>\n",
       "      <td>...</td>\n",
       "      <td>...</td>\n",
       "      <td>...</td>\n",
       "      <td>...</td>\n",
       "    </tr>\n",
       "    <tr>\n",
       "      <th>763</th>\n",
       "      <td>10</td>\n",
       "      <td>101</td>\n",
       "      <td>76</td>\n",
       "      <td>48</td>\n",
       "      <td>180</td>\n",
       "      <td>32.9</td>\n",
       "      <td>0.171</td>\n",
       "      <td>63</td>\n",
       "      <td>0</td>\n",
       "    </tr>\n",
       "    <tr>\n",
       "      <th>764</th>\n",
       "      <td>2</td>\n",
       "      <td>122</td>\n",
       "      <td>70</td>\n",
       "      <td>27</td>\n",
       "      <td>0</td>\n",
       "      <td>36.8</td>\n",
       "      <td>0.340</td>\n",
       "      <td>27</td>\n",
       "      <td>0</td>\n",
       "    </tr>\n",
       "    <tr>\n",
       "      <th>765</th>\n",
       "      <td>5</td>\n",
       "      <td>121</td>\n",
       "      <td>72</td>\n",
       "      <td>23</td>\n",
       "      <td>112</td>\n",
       "      <td>26.2</td>\n",
       "      <td>0.245</td>\n",
       "      <td>30</td>\n",
       "      <td>0</td>\n",
       "    </tr>\n",
       "    <tr>\n",
       "      <th>766</th>\n",
       "      <td>1</td>\n",
       "      <td>126</td>\n",
       "      <td>60</td>\n",
       "      <td>0</td>\n",
       "      <td>0</td>\n",
       "      <td>30.1</td>\n",
       "      <td>0.349</td>\n",
       "      <td>47</td>\n",
       "      <td>1</td>\n",
       "    </tr>\n",
       "    <tr>\n",
       "      <th>767</th>\n",
       "      <td>1</td>\n",
       "      <td>93</td>\n",
       "      <td>70</td>\n",
       "      <td>31</td>\n",
       "      <td>0</td>\n",
       "      <td>30.4</td>\n",
       "      <td>0.315</td>\n",
       "      <td>23</td>\n",
       "      <td>0</td>\n",
       "    </tr>\n",
       "  </tbody>\n",
       "</table>\n",
       "<p>768 rows × 9 columns</p>\n",
       "</div>"
      ],
      "text/plain": [
       "     Pregnancies  Glucose  BloodPressure  SkinThickness  Insulin   BMI  \\\n",
       "0              6      148             72             35        0  33.6   \n",
       "1              1       85             66             29        0  26.6   \n",
       "2              8      183             64              0        0  23.3   \n",
       "3              1       89             66             23       94  28.1   \n",
       "4              0      137             40             35      168  43.1   \n",
       "..           ...      ...            ...            ...      ...   ...   \n",
       "763           10      101             76             48      180  32.9   \n",
       "764            2      122             70             27        0  36.8   \n",
       "765            5      121             72             23      112  26.2   \n",
       "766            1      126             60              0        0  30.1   \n",
       "767            1       93             70             31        0  30.4   \n",
       "\n",
       "     DiabetesPedigreeFunction  Age  Outcome  \n",
       "0                       0.627   50        1  \n",
       "1                       0.351   31        0  \n",
       "2                       0.672   32        1  \n",
       "3                       0.167   21        0  \n",
       "4                       2.288   33        1  \n",
       "..                        ...  ...      ...  \n",
       "763                     0.171   63        0  \n",
       "764                     0.340   27        0  \n",
       "765                     0.245   30        0  \n",
       "766                     0.349   47        1  \n",
       "767                     0.315   23        0  \n",
       "\n",
       "[768 rows x 9 columns]"
      ]
     },
     "execution_count": 2,
     "metadata": {},
     "output_type": "execute_result"
    }
   ],
   "source": [
    "df = pd.read_csv('diabetes.csv')\n",
    "df"
   ]
  },
  {
   "cell_type": "code",
   "execution_count": 3,
   "metadata": {},
   "outputs": [],
   "source": [
    "x = df.drop('Outcome', axis = 1)\n",
    "y = df[['Outcome']]"
   ]
  },
  {
   "cell_type": "code",
   "execution_count": 4,
   "metadata": {},
   "outputs": [],
   "source": [
    "from sklearn.model_selection import train_test_split\n",
    "x_train, x_test, y_train, y_test = train_test_split(x,y, test_size = 0.2, random_state =1)"
   ]
  },
  {
   "cell_type": "code",
   "execution_count": 5,
   "metadata": {},
   "outputs": [],
   "source": [
    "from sklearn.tree import DecisionTreeClassifier\n",
    "decision_tree = DecisionTreeClassifier()"
   ]
  },
  {
   "cell_type": "code",
   "execution_count": 6,
   "metadata": {},
   "outputs": [
    {
     "data": {
      "text/plain": [
       "DecisionTreeClassifier()"
      ]
     },
     "execution_count": 6,
     "metadata": {},
     "output_type": "execute_result"
    }
   ],
   "source": [
    "decision_tree.fit(x_train, y_train)"
   ]
  },
  {
   "cell_type": "code",
   "execution_count": 7,
   "metadata": {},
   "outputs": [],
   "source": [
    "y_pred = decision_tree.predict(x_test)\n",
    "y_pred_train = decision_tree.predict(x_train)"
   ]
  },
  {
   "cell_type": "code",
   "execution_count": 8,
   "metadata": {},
   "outputs": [
    {
     "data": {
      "text/plain": [
       "0.6818181818181818"
      ]
     },
     "execution_count": 8,
     "metadata": {},
     "output_type": "execute_result"
    }
   ],
   "source": [
    "from sklearn.metrics import accuracy_score, classification_report, confusion_matrix\n",
    "accuracy_score(y_test, y_pred) #testing accuracy"
   ]
  },
  {
   "cell_type": "code",
   "execution_count": 9,
   "metadata": {},
   "outputs": [
    {
     "data": {
      "text/plain": [
       "1.0"
      ]
     },
     "execution_count": 9,
     "metadata": {},
     "output_type": "execute_result"
    }
   ],
   "source": [
    "accuracy_score(y_train, y_pred_train)  #training accuracy"
   ]
  },
  {
   "cell_type": "code",
   "execution_count": 10,
   "metadata": {},
   "outputs": [
    {
     "data": {
      "text/plain": [
       "array([[77, 22],\n",
       "       [27, 28]], dtype=int64)"
      ]
     },
     "execution_count": 10,
     "metadata": {},
     "output_type": "execute_result"
    }
   ],
   "source": [
    "confusion_matrix(y_test, y_pred)  #testing matrix"
   ]
  },
  {
   "cell_type": "code",
   "execution_count": 11,
   "metadata": {},
   "outputs": [
    {
     "data": {
      "text/plain": [
       "array([[401,   0],\n",
       "       [  0, 213]], dtype=int64)"
      ]
     },
     "execution_count": 11,
     "metadata": {},
     "output_type": "execute_result"
    }
   ],
   "source": [
    "confusion_matrix(y_train, y_pred_train)  #training matrix"
   ]
  },
  {
   "cell_type": "code",
   "execution_count": 12,
   "metadata": {},
   "outputs": [],
   "source": [
    "import matplotlib.pyplot as plt\n",
    "%matplotlib inline "
   ]
  },
  {
   "cell_type": "code",
   "execution_count": 13,
   "metadata": {},
   "outputs": [
    {
     "data": {
      "text/plain": [
       "[Text(137.77962466487938, 210.192, 'X[1] <= 127.5\\ngini = 0.453\\nsamples = 614\\nvalue = [401, 213]\\nclass = Pregnancies'),\n",
       " Text(53.63083109919572, 195.696, 'X[7] <= 28.5\\ngini = 0.311\\nsamples = 389\\nvalue = [314, 75]\\nclass = Pregnancies'),\n",
       " Text(29.620375335120645, 181.2, 'X[5] <= 45.4\\ngini = 0.167\\nsamples = 217\\nvalue = [197, 20]\\nclass = Pregnancies'),\n",
       " Text(19.74691689008043, 166.704, 'X[5] <= 30.95\\ngini = 0.147\\nsamples = 213\\nvalue = [196, 17]\\nclass = Pregnancies'),\n",
       " Text(10.771045576407507, 152.208, 'X[0] <= 7.5\\ngini = 0.031\\nsamples = 126\\nvalue = [124, 2]\\nclass = Pregnancies'),\n",
       " Text(7.180697050938338, 137.712, 'X[6] <= 0.668\\ngini = 0.016\\nsamples = 125\\nvalue = [124, 1]\\nclass = Pregnancies'),\n",
       " Text(3.590348525469169, 123.216, 'gini = 0.0\\nsamples = 111\\nvalue = [111, 0]\\nclass = Pregnancies'),\n",
       " Text(10.771045576407507, 123.216, 'X[5] <= 23.55\\ngini = 0.133\\nsamples = 14\\nvalue = [13, 1]\\nclass = Pregnancies'),\n",
       " Text(7.180697050938338, 108.72, 'gini = 0.0\\nsamples = 1\\nvalue = [0, 1]\\nclass = Glucose'),\n",
       " Text(14.361394101876677, 108.72, 'gini = 0.0\\nsamples = 13\\nvalue = [13, 0]\\nclass = Pregnancies'),\n",
       " Text(14.361394101876677, 137.712, 'gini = 0.0\\nsamples = 1\\nvalue = [0, 1]\\nclass = Glucose'),\n",
       " Text(28.722788203753353, 152.208, 'X[6] <= 0.895\\ngini = 0.285\\nsamples = 87\\nvalue = [72, 15]\\nclass = Pregnancies'),\n",
       " Text(21.542091152815015, 137.712, 'X[2] <= 22.0\\ngini = 0.247\\nsamples = 83\\nvalue = [71, 12]\\nclass = Pregnancies'),\n",
       " Text(17.951742627345844, 123.216, 'gini = 0.0\\nsamples = 1\\nvalue = [0, 1]\\nclass = Glucose'),\n",
       " Text(25.132439678284186, 123.216, 'X[7] <= 22.5\\ngini = 0.232\\nsamples = 82\\nvalue = [71, 11]\\nclass = Pregnancies'),\n",
       " Text(21.542091152815015, 108.72, 'gini = 0.0\\nsamples = 21\\nvalue = [21, 0]\\nclass = Pregnancies'),\n",
       " Text(28.722788203753353, 108.72, 'X[5] <= 33.45\\ngini = 0.296\\nsamples = 61\\nvalue = [50, 11]\\nclass = Pregnancies'),\n",
       " Text(11.6686327077748, 94.22399999999999, 'X[6] <= 0.194\\ngini = 0.473\\nsamples = 13\\nvalue = [8, 5]\\nclass = Pregnancies'),\n",
       " Text(8.07828418230563, 79.72799999999998, 'gini = 0.0\\nsamples = 4\\nvalue = [4, 0]\\nclass = Pregnancies'),\n",
       " Text(15.258981233243968, 79.72799999999998, 'X[4] <= 92.0\\ngini = 0.494\\nsamples = 9\\nvalue = [4, 5]\\nclass = Glucose'),\n",
       " Text(11.6686327077748, 65.232, 'X[6] <= 0.569\\ngini = 0.408\\nsamples = 7\\nvalue = [2, 5]\\nclass = Glucose'),\n",
       " Text(8.07828418230563, 50.73599999999999, 'gini = 0.0\\nsamples = 4\\nvalue = [0, 4]\\nclass = Glucose'),\n",
       " Text(15.258981233243968, 50.73599999999999, 'X[7] <= 27.5\\ngini = 0.444\\nsamples = 3\\nvalue = [2, 1]\\nclass = Pregnancies'),\n",
       " Text(11.6686327077748, 36.23999999999998, 'gini = 0.0\\nsamples = 2\\nvalue = [2, 0]\\nclass = Pregnancies'),\n",
       " Text(18.84932975871314, 36.23999999999998, 'gini = 0.0\\nsamples = 1\\nvalue = [0, 1]\\nclass = Glucose'),\n",
       " Text(18.84932975871314, 65.232, 'gini = 0.0\\nsamples = 2\\nvalue = [2, 0]\\nclass = Pregnancies'),\n",
       " Text(45.77694369973191, 94.22399999999999, 'X[6] <= 0.501\\ngini = 0.219\\nsamples = 48\\nvalue = [42, 6]\\nclass = Pregnancies'),\n",
       " Text(33.210723860589816, 79.72799999999998, 'X[2] <= 53.0\\ngini = 0.117\\nsamples = 32\\nvalue = [30, 2]\\nclass = Pregnancies'),\n",
       " Text(26.030026809651478, 65.232, 'X[4] <= 31.5\\ngini = 0.5\\nsamples = 2\\nvalue = [1, 1]\\nclass = Pregnancies'),\n",
       " Text(22.439678284182307, 50.73599999999999, 'gini = 0.0\\nsamples = 1\\nvalue = [0, 1]\\nclass = Glucose'),\n",
       " Text(29.620375335120645, 50.73599999999999, 'gini = 0.0\\nsamples = 1\\nvalue = [1, 0]\\nclass = Pregnancies'),\n",
       " Text(40.39142091152815, 65.232, 'X[2] <= 83.5\\ngini = 0.064\\nsamples = 30\\nvalue = [29, 1]\\nclass = Pregnancies'),\n",
       " Text(36.80107238605898, 50.73599999999999, 'gini = 0.0\\nsamples = 28\\nvalue = [28, 0]\\nclass = Pregnancies'),\n",
       " Text(43.981769436997325, 50.73599999999999, 'X[5] <= 38.45\\ngini = 0.5\\nsamples = 2\\nvalue = [1, 1]\\nclass = Pregnancies'),\n",
       " Text(40.39142091152815, 36.23999999999998, 'gini = 0.0\\nsamples = 1\\nvalue = [0, 1]\\nclass = Glucose'),\n",
       " Text(47.57211796246649, 36.23999999999998, 'gini = 0.0\\nsamples = 1\\nvalue = [1, 0]\\nclass = Pregnancies'),\n",
       " Text(58.343163538874, 79.72799999999998, 'X[2] <= 69.0\\ngini = 0.375\\nsamples = 16\\nvalue = [12, 4]\\nclass = Pregnancies'),\n",
       " Text(54.75281501340483, 65.232, 'X[2] <= 61.0\\ngini = 0.494\\nsamples = 9\\nvalue = [5, 4]\\nclass = Pregnancies'),\n",
       " Text(51.16246648793566, 50.73599999999999, 'gini = 0.0\\nsamples = 3\\nvalue = [3, 0]\\nclass = Pregnancies'),\n",
       " Text(58.343163538874, 50.73599999999999, 'X[1] <= 86.5\\ngini = 0.444\\nsamples = 6\\nvalue = [2, 4]\\nclass = Glucose'),\n",
       " Text(54.75281501340483, 36.23999999999998, 'gini = 0.0\\nsamples = 1\\nvalue = [1, 0]\\nclass = Pregnancies'),\n",
       " Text(61.93351206434317, 36.23999999999998, 'X[0] <= 1.0\\ngini = 0.32\\nsamples = 5\\nvalue = [1, 4]\\nclass = Glucose'),\n",
       " Text(58.343163538874, 21.744, 'X[5] <= 36.7\\ngini = 0.5\\nsamples = 2\\nvalue = [1, 1]\\nclass = Pregnancies'),\n",
       " Text(54.75281501340483, 7.2479999999999905, 'gini = 0.0\\nsamples = 1\\nvalue = [0, 1]\\nclass = Glucose'),\n",
       " Text(61.93351206434317, 7.2479999999999905, 'gini = 0.0\\nsamples = 1\\nvalue = [1, 0]\\nclass = Pregnancies'),\n",
       " Text(65.52386058981234, 21.744, 'gini = 0.0\\nsamples = 3\\nvalue = [0, 3]\\nclass = Glucose'),\n",
       " Text(61.93351206434317, 65.232, 'gini = 0.0\\nsamples = 7\\nvalue = [7, 0]\\nclass = Pregnancies'),\n",
       " Text(35.90348525469169, 137.712, 'X[4] <= 63.0\\ngini = 0.375\\nsamples = 4\\nvalue = [1, 3]\\nclass = Glucose'),\n",
       " Text(32.31313672922252, 123.216, 'gini = 0.0\\nsamples = 1\\nvalue = [1, 0]\\nclass = Pregnancies'),\n",
       " Text(39.49383378016086, 123.216, 'gini = 0.0\\nsamples = 3\\nvalue = [0, 3]\\nclass = Glucose'),\n",
       " Text(39.49383378016086, 166.704, 'X[4] <= 180.0\\ngini = 0.375\\nsamples = 4\\nvalue = [1, 3]\\nclass = Glucose'),\n",
       " Text(35.90348525469169, 152.208, 'gini = 0.0\\nsamples = 3\\nvalue = [0, 3]\\nclass = Glucose'),\n",
       " Text(43.08418230563003, 152.208, 'gini = 0.0\\nsamples = 1\\nvalue = [1, 0]\\nclass = Pregnancies'),\n",
       " Text(77.64128686327078, 181.2, 'X[1] <= 99.5\\ngini = 0.435\\nsamples = 172\\nvalue = [117, 55]\\nclass = Pregnancies'),\n",
       " Text(58.343163538874, 166.704, 'X[7] <= 42.5\\ngini = 0.187\\nsamples = 48\\nvalue = [43, 5]\\nclass = Pregnancies'),\n",
       " Text(54.75281501340483, 152.208, 'gini = 0.0\\nsamples = 34\\nvalue = [34, 0]\\nclass = Pregnancies'),\n",
       " Text(61.93351206434317, 152.208, 'X[3] <= 24.0\\ngini = 0.459\\nsamples = 14\\nvalue = [9, 5]\\nclass = Pregnancies'),\n",
       " Text(54.75281501340483, 137.712, 'X[6] <= 0.831\\ngini = 0.198\\nsamples = 9\\nvalue = [8, 1]\\nclass = Pregnancies'),\n",
       " Text(51.16246648793566, 123.216, 'gini = 0.0\\nsamples = 8\\nvalue = [8, 0]\\nclass = Pregnancies'),\n",
       " Text(58.343163538874, 123.216, 'gini = 0.0\\nsamples = 1\\nvalue = [0, 1]\\nclass = Glucose'),\n",
       " Text(69.11420911528151, 137.712, 'X[2] <= 65.0\\ngini = 0.32\\nsamples = 5\\nvalue = [1, 4]\\nclass = Glucose'),\n",
       " Text(65.52386058981234, 123.216, 'gini = 0.0\\nsamples = 1\\nvalue = [1, 0]\\nclass = Pregnancies'),\n",
       " Text(72.70455764075068, 123.216, 'gini = 0.0\\nsamples = 4\\nvalue = [0, 4]\\nclass = Glucose'),\n",
       " Text(96.93941018766756, 166.704, 'X[5] <= 26.25\\ngini = 0.481\\nsamples = 124\\nvalue = [74, 50]\\nclass = Pregnancies'),\n",
       " Text(83.47560321715818, 152.208, 'X[5] <= 9.8\\ngini = 0.153\\nsamples = 24\\nvalue = [22, 2]\\nclass = Pregnancies'),\n",
       " Text(79.88525469168901, 137.712, 'gini = 0.0\\nsamples = 2\\nvalue = [0, 2]\\nclass = Glucose'),\n",
       " Text(87.06595174262735, 137.712, 'gini = 0.0\\nsamples = 22\\nvalue = [22, 0]\\nclass = Pregnancies'),\n",
       " Text(110.40321715817696, 152.208, 'X[6] <= 0.57\\ngini = 0.499\\nsamples = 100\\nvalue = [52, 48]\\nclass = Pregnancies'),\n",
       " Text(94.2466487935657, 137.712, 'X[2] <= 67.0\\ngini = 0.469\\nsamples = 72\\nvalue = [45, 27]\\nclass = Pregnancies'),\n",
       " Text(79.88525469168901, 123.216, 'X[2] <= 58.0\\ngini = 0.465\\nsamples = 19\\nvalue = [7, 12]\\nclass = Glucose'),\n",
       " Text(72.70455764075068, 108.72, 'X[2] <= 15.0\\ngini = 0.408\\nsamples = 7\\nvalue = [5, 2]\\nclass = Pregnancies'),\n",
       " Text(69.11420911528151, 94.22399999999999, 'X[0] <= 9.0\\ngini = 0.444\\nsamples = 3\\nvalue = [1, 2]\\nclass = Glucose'),\n",
       " Text(65.52386058981234, 79.72799999999998, 'gini = 0.0\\nsamples = 2\\nvalue = [0, 2]\\nclass = Glucose'),\n",
       " Text(72.70455764075068, 79.72799999999998, 'gini = 0.0\\nsamples = 1\\nvalue = [1, 0]\\nclass = Pregnancies'),\n",
       " Text(76.29490616621985, 94.22399999999999, 'gini = 0.0\\nsamples = 4\\nvalue = [4, 0]\\nclass = Pregnancies'),\n",
       " Text(87.06595174262735, 108.72, 'X[6] <= 0.412\\ngini = 0.278\\nsamples = 12\\nvalue = [2, 10]\\nclass = Glucose'),\n",
       " Text(83.47560321715818, 94.22399999999999, 'gini = 0.0\\nsamples = 10\\nvalue = [0, 10]\\nclass = Glucose'),\n",
       " Text(90.65630026809652, 94.22399999999999, 'gini = 0.0\\nsamples = 2\\nvalue = [2, 0]\\nclass = Pregnancies'),\n",
       " Text(108.60804289544237, 123.216, 'X[5] <= 43.1\\ngini = 0.406\\nsamples = 53\\nvalue = [38, 15]\\nclass = Pregnancies'),\n",
       " Text(105.0176943699732, 108.72, 'X[3] <= 28.0\\ngini = 0.38\\nsamples = 51\\nvalue = [38, 13]\\nclass = Pregnancies'),\n",
       " Text(97.83699731903486, 94.22399999999999, 'X[2] <= 89.0\\ngini = 0.48\\nsamples = 30\\nvalue = [18, 12]\\nclass = Pregnancies'),\n",
       " Text(94.2466487935657, 79.72799999999998, 'X[7] <= 47.0\\ngini = 0.499\\nsamples = 23\\nvalue = [11, 12]\\nclass = Glucose'),\n",
       " Text(85.27077747989277, 65.232, 'X[7] <= 35.0\\ngini = 0.43\\nsamples = 16\\nvalue = [5, 11]\\nclass = Glucose'),\n",
       " Text(78.09008042895442, 50.73599999999999, 'X[7] <= 31.5\\ngini = 0.48\\nsamples = 5\\nvalue = [3, 2]\\nclass = Pregnancies'),\n",
       " Text(74.49973190348526, 36.23999999999998, 'gini = 0.0\\nsamples = 2\\nvalue = [0, 2]\\nclass = Glucose'),\n",
       " Text(81.6804289544236, 36.23999999999998, 'gini = 0.0\\nsamples = 3\\nvalue = [3, 0]\\nclass = Pregnancies'),\n",
       " Text(92.4514745308311, 50.73599999999999, 'X[1] <= 101.0\\ngini = 0.298\\nsamples = 11\\nvalue = [2, 9]\\nclass = Glucose'),\n",
       " Text(88.86112600536194, 36.23999999999998, 'gini = 0.0\\nsamples = 1\\nvalue = [1, 0]\\nclass = Pregnancies'),\n",
       " Text(96.04182305630027, 36.23999999999998, 'X[2] <= 69.0\\ngini = 0.18\\nsamples = 10\\nvalue = [1, 9]\\nclass = Glucose'),\n",
       " Text(92.4514745308311, 21.744, 'gini = 0.0\\nsamples = 1\\nvalue = [1, 0]\\nclass = Pregnancies'),\n",
       " Text(99.63217158176944, 21.744, 'gini = 0.0\\nsamples = 9\\nvalue = [0, 9]\\nclass = Glucose'),\n",
       " Text(103.22252010723861, 65.232, 'X[0] <= 3.5\\ngini = 0.245\\nsamples = 7\\nvalue = [6, 1]\\nclass = Pregnancies'),\n",
       " Text(99.63217158176944, 50.73599999999999, 'gini = 0.0\\nsamples = 1\\nvalue = [0, 1]\\nclass = Glucose'),\n",
       " Text(106.81286863270778, 50.73599999999999, 'gini = 0.0\\nsamples = 6\\nvalue = [6, 0]\\nclass = Pregnancies'),\n",
       " Text(101.42734584450403, 79.72799999999998, 'gini = 0.0\\nsamples = 7\\nvalue = [7, 0]\\nclass = Pregnancies'),\n",
       " Text(112.19839142091153, 94.22399999999999, 'X[4] <= 155.0\\ngini = 0.091\\nsamples = 21\\nvalue = [20, 1]\\nclass = Pregnancies'),\n",
       " Text(108.60804289544237, 79.72799999999998, 'gini = 0.0\\nsamples = 17\\nvalue = [17, 0]\\nclass = Pregnancies'),\n",
       " Text(115.7887399463807, 79.72799999999998, 'X[2] <= 79.0\\ngini = 0.375\\nsamples = 4\\nvalue = [3, 1]\\nclass = Pregnancies'),\n",
       " Text(112.19839142091153, 65.232, 'gini = 0.0\\nsamples = 3\\nvalue = [3, 0]\\nclass = Pregnancies'),\n",
       " Text(119.37908847184987, 65.232, 'gini = 0.0\\nsamples = 1\\nvalue = [0, 1]\\nclass = Glucose'),\n",
       " Text(112.19839142091153, 108.72, 'gini = 0.0\\nsamples = 2\\nvalue = [0, 2]\\nclass = Glucose'),\n",
       " Text(126.55978552278822, 137.712, 'X[0] <= 6.5\\ngini = 0.375\\nsamples = 28\\nvalue = [7, 21]\\nclass = Glucose'),\n",
       " Text(122.96943699731905, 123.216, 'X[7] <= 30.5\\ngini = 0.492\\nsamples = 16\\nvalue = [7, 9]\\nclass = Glucose'),\n",
       " Text(119.37908847184987, 108.72, 'gini = 0.0\\nsamples = 4\\nvalue = [0, 4]\\nclass = Glucose'),\n",
       " Text(126.55978552278822, 108.72, 'X[1] <= 105.5\\ngini = 0.486\\nsamples = 12\\nvalue = [7, 5]\\nclass = Pregnancies'),\n",
       " Text(122.96943699731905, 94.22399999999999, 'gini = 0.0\\nsamples = 2\\nvalue = [0, 2]\\nclass = Glucose'),\n",
       " Text(130.15013404825737, 94.22399999999999, 'X[3] <= 11.0\\ngini = 0.42\\nsamples = 10\\nvalue = [7, 3]\\nclass = Pregnancies'),\n",
       " Text(126.55978552278822, 79.72799999999998, 'gini = 0.0\\nsamples = 4\\nvalue = [4, 0]\\nclass = Pregnancies'),\n",
       " Text(133.74048257372655, 79.72799999999998, 'X[1] <= 119.5\\ngini = 0.5\\nsamples = 6\\nvalue = [3, 3]\\nclass = Pregnancies'),\n",
       " Text(130.15013404825737, 65.232, 'X[6] <= 1.395\\ngini = 0.375\\nsamples = 4\\nvalue = [1, 3]\\nclass = Glucose'),\n",
       " Text(126.55978552278822, 50.73599999999999, 'gini = 0.0\\nsamples = 3\\nvalue = [0, 3]\\nclass = Glucose'),\n",
       " Text(133.74048257372655, 50.73599999999999, 'gini = 0.0\\nsamples = 1\\nvalue = [1, 0]\\nclass = Pregnancies'),\n",
       " Text(137.33083109919573, 65.232, 'gini = 0.0\\nsamples = 2\\nvalue = [2, 0]\\nclass = Pregnancies'),\n",
       " Text(130.15013404825737, 123.216, 'gini = 0.0\\nsamples = 12\\nvalue = [0, 12]\\nclass = Glucose'),\n",
       " Text(221.928418230563, 195.696, 'X[5] <= 29.95\\ngini = 0.474\\nsamples = 225\\nvalue = [87, 138]\\nclass = Glucose'),\n",
       " Text(164.2584450402145, 181.2, 'X[1] <= 145.5\\ngini = 0.458\\nsamples = 62\\nvalue = [40, 22]\\nclass = Pregnancies'),\n",
       " Text(151.6922252010724, 166.704, 'X[5] <= 28.15\\ngini = 0.298\\nsamples = 33\\nvalue = [27, 6]\\nclass = Pregnancies'),\n",
       " Text(144.51152815013407, 152.208, 'X[2] <= 73.0\\ngini = 0.204\\nsamples = 26\\nvalue = [23, 3]\\nclass = Pregnancies'),\n",
       " Text(140.9211796246649, 137.712, 'X[0] <= 2.5\\ngini = 0.397\\nsamples = 11\\nvalue = [8, 3]\\nclass = Pregnancies'),\n",
       " Text(137.33083109919573, 123.216, 'gini = 0.0\\nsamples = 5\\nvalue = [5, 0]\\nclass = Pregnancies'),\n",
       " Text(144.51152815013407, 123.216, 'X[0] <= 5.0\\ngini = 0.5\\nsamples = 6\\nvalue = [3, 3]\\nclass = Pregnancies'),\n",
       " Text(140.9211796246649, 108.72, 'X[5] <= 23.45\\ngini = 0.375\\nsamples = 4\\nvalue = [1, 3]\\nclass = Glucose'),\n",
       " Text(137.33083109919573, 94.22399999999999, 'gini = 0.0\\nsamples = 1\\nvalue = [1, 0]\\nclass = Pregnancies'),\n",
       " Text(144.51152815013407, 94.22399999999999, 'gini = 0.0\\nsamples = 3\\nvalue = [0, 3]\\nclass = Glucose'),\n",
       " Text(148.10187667560322, 108.72, 'gini = 0.0\\nsamples = 2\\nvalue = [2, 0]\\nclass = Pregnancies'),\n",
       " Text(148.10187667560322, 137.712, 'gini = 0.0\\nsamples = 15\\nvalue = [15, 0]\\nclass = Pregnancies'),\n",
       " Text(158.87292225201074, 152.208, 'X[1] <= 137.5\\ngini = 0.49\\nsamples = 7\\nvalue = [4, 3]\\nclass = Pregnancies'),\n",
       " Text(155.28257372654156, 137.712, 'X[5] <= 29.4\\ngini = 0.375\\nsamples = 4\\nvalue = [1, 3]\\nclass = Glucose'),\n",
       " Text(151.6922252010724, 123.216, 'gini = 0.0\\nsamples = 3\\nvalue = [0, 3]\\nclass = Glucose'),\n",
       " Text(158.87292225201074, 123.216, 'gini = 0.0\\nsamples = 1\\nvalue = [1, 0]\\nclass = Pregnancies'),\n",
       " Text(162.4632707774799, 137.712, 'gini = 0.0\\nsamples = 3\\nvalue = [3, 0]\\nclass = Pregnancies'),\n",
       " Text(176.8246648793566, 166.704, 'X[7] <= 61.0\\ngini = 0.495\\nsamples = 29\\nvalue = [13, 16]\\nclass = Glucose'),\n",
       " Text(173.2343163538874, 152.208, 'X[0] <= 1.5\\ngini = 0.461\\nsamples = 25\\nvalue = [9, 16]\\nclass = Glucose'),\n",
       " Text(169.64396782841825, 137.712, 'gini = 0.0\\nsamples = 3\\nvalue = [3, 0]\\nclass = Pregnancies'),\n",
       " Text(176.8246648793566, 137.712, 'X[5] <= 23.1\\ngini = 0.397\\nsamples = 22\\nvalue = [6, 16]\\nclass = Glucose'),\n",
       " Text(173.2343163538874, 123.216, 'gini = 0.0\\nsamples = 2\\nvalue = [2, 0]\\nclass = Pregnancies'),\n",
       " Text(180.41501340482574, 123.216, 'X[5] <= 27.1\\ngini = 0.32\\nsamples = 20\\nvalue = [4, 16]\\nclass = Glucose'),\n",
       " Text(176.8246648793566, 108.72, 'gini = 0.0\\nsamples = 10\\nvalue = [0, 10]\\nclass = Glucose'),\n",
       " Text(184.00536193029492, 108.72, 'X[7] <= 34.5\\ngini = 0.48\\nsamples = 10\\nvalue = [4, 6]\\nclass = Glucose'),\n",
       " Text(180.41501340482574, 94.22399999999999, 'gini = 0.0\\nsamples = 4\\nvalue = [0, 4]\\nclass = Glucose'),\n",
       " Text(187.59571045576408, 94.22399999999999, 'X[6] <= 0.253\\ngini = 0.444\\nsamples = 6\\nvalue = [4, 2]\\nclass = Pregnancies'),\n",
       " Text(184.00536193029492, 79.72799999999998, 'X[2] <= 82.0\\ngini = 0.444\\nsamples = 3\\nvalue = [1, 2]\\nclass = Glucose'),\n",
       " Text(180.41501340482574, 65.232, 'gini = 0.0\\nsamples = 2\\nvalue = [0, 2]\\nclass = Glucose'),\n",
       " Text(187.59571045576408, 65.232, 'gini = 0.0\\nsamples = 1\\nvalue = [1, 0]\\nclass = Pregnancies'),\n",
       " Text(191.18605898123326, 79.72799999999998, 'gini = 0.0\\nsamples = 3\\nvalue = [3, 0]\\nclass = Pregnancies'),\n",
       " Text(180.41501340482574, 152.208, 'gini = 0.0\\nsamples = 4\\nvalue = [4, 0]\\nclass = Pregnancies'),\n",
       " Text(279.5983914209115, 181.2, 'X[1] <= 154.5\\ngini = 0.41\\nsamples = 163\\nvalue = [47, 116]\\nclass = Glucose'),\n",
       " Text(242.34852546916892, 166.704, 'X[1] <= 152.5\\ngini = 0.483\\nsamples = 86\\nvalue = [35, 51]\\nclass = Glucose'),\n",
       " Text(238.75817694369974, 152.208, 'X[7] <= 30.5\\ngini = 0.462\\nsamples = 80\\nvalue = [29, 51]\\nclass = Glucose'),\n",
       " Text(218.11367292225202, 137.712, 'X[2] <= 61.0\\ngini = 0.5\\nsamples = 39\\nvalue = [20, 19]\\nclass = Pregnancies'),\n",
       " Text(214.52332439678287, 123.216, 'gini = 0.0\\nsamples = 8\\nvalue = [0, 8]\\nclass = Glucose'),\n",
       " Text(221.7040214477212, 123.216, 'X[5] <= 41.8\\ngini = 0.458\\nsamples = 31\\nvalue = [20, 11]\\nclass = Pregnancies'),\n",
       " Text(209.1378016085791, 108.72, 'X[0] <= 4.5\\ngini = 0.34\\nsamples = 23\\nvalue = [18, 5]\\nclass = Pregnancies'),\n",
       " Text(201.95710455764078, 94.22399999999999, 'X[6] <= 1.246\\ngini = 0.255\\nsamples = 20\\nvalue = [17, 3]\\nclass = Pregnancies'),\n",
       " Text(198.3667560321716, 79.72799999999998, 'X[2] <= 72.0\\ngini = 0.188\\nsamples = 19\\nvalue = [17, 2]\\nclass = Pregnancies'),\n",
       " Text(194.77640750670244, 65.232, 'X[0] <= 0.5\\ngini = 0.408\\nsamples = 7\\nvalue = [5, 2]\\nclass = Pregnancies'),\n",
       " Text(191.18605898123326, 50.73599999999999, 'X[5] <= 33.75\\ngini = 0.444\\nsamples = 3\\nvalue = [1, 2]\\nclass = Glucose'),\n",
       " Text(187.59571045576408, 36.23999999999998, 'gini = 0.0\\nsamples = 1\\nvalue = [1, 0]\\nclass = Pregnancies'),\n",
       " Text(194.77640750670244, 36.23999999999998, 'gini = 0.0\\nsamples = 2\\nvalue = [0, 2]\\nclass = Glucose'),\n",
       " Text(198.3667560321716, 50.73599999999999, 'gini = 0.0\\nsamples = 4\\nvalue = [4, 0]\\nclass = Pregnancies'),\n",
       " Text(201.95710455764078, 65.232, 'gini = 0.0\\nsamples = 12\\nvalue = [12, 0]\\nclass = Pregnancies'),\n",
       " Text(205.54745308310993, 79.72799999999998, 'gini = 0.0\\nsamples = 1\\nvalue = [0, 1]\\nclass = Glucose'),\n",
       " Text(216.31849865951745, 94.22399999999999, 'X[6] <= 0.617\\ngini = 0.444\\nsamples = 3\\nvalue = [1, 2]\\nclass = Glucose'),\n",
       " Text(212.72815013404826, 79.72799999999998, 'gini = 0.0\\nsamples = 2\\nvalue = [0, 2]\\nclass = Glucose'),\n",
       " Text(219.9088471849866, 79.72799999999998, 'gini = 0.0\\nsamples = 1\\nvalue = [1, 0]\\nclass = Pregnancies'),\n",
       " Text(234.2702412868633, 108.72, 'X[6] <= 0.86\\ngini = 0.375\\nsamples = 8\\nvalue = [2, 6]\\nclass = Glucose'),\n",
       " Text(230.67989276139411, 94.22399999999999, 'X[3] <= 50.0\\ngini = 0.245\\nsamples = 7\\nvalue = [1, 6]\\nclass = Glucose'),\n",
       " Text(227.08954423592496, 79.72799999999998, 'gini = 0.0\\nsamples = 6\\nvalue = [0, 6]\\nclass = Glucose'),\n",
       " Text(234.2702412868633, 79.72799999999998, 'gini = 0.0\\nsamples = 1\\nvalue = [1, 0]\\nclass = Pregnancies'),\n",
       " Text(237.86058981233245, 94.22399999999999, 'gini = 0.0\\nsamples = 1\\nvalue = [1, 0]\\nclass = Pregnancies'),\n",
       " Text(259.40268096514745, 137.712, 'X[6] <= 0.431\\ngini = 0.343\\nsamples = 41\\nvalue = [9, 32]\\nclass = Glucose'),\n",
       " Text(252.22198391420915, 123.216, 'X[3] <= 30.0\\ngini = 0.475\\nsamples = 18\\nvalue = [7, 11]\\nclass = Glucose'),\n",
       " Text(248.63163538873997, 108.72, 'X[7] <= 40.5\\ngini = 0.497\\nsamples = 13\\nvalue = [7, 6]\\nclass = Pregnancies'),\n",
       " Text(245.04128686327078, 94.22399999999999, 'gini = 0.0\\nsamples = 4\\nvalue = [4, 0]\\nclass = Pregnancies'),\n",
       " Text(252.22198391420915, 94.22399999999999, 'X[0] <= 6.0\\ngini = 0.444\\nsamples = 9\\nvalue = [3, 6]\\nclass = Glucose'),\n",
       " Text(248.63163538873997, 79.72799999999998, 'X[3] <= 16.5\\ngini = 0.5\\nsamples = 6\\nvalue = [3, 3]\\nclass = Pregnancies'),\n",
       " Text(245.04128686327078, 65.232, 'X[6] <= 0.353\\ngini = 0.375\\nsamples = 4\\nvalue = [3, 1]\\nclass = Pregnancies'),\n",
       " Text(241.45093833780163, 50.73599999999999, 'gini = 0.0\\nsamples = 3\\nvalue = [3, 0]\\nclass = Pregnancies'),\n",
       " Text(248.63163538873997, 50.73599999999999, 'gini = 0.0\\nsamples = 1\\nvalue = [0, 1]\\nclass = Glucose'),\n",
       " Text(252.22198391420915, 65.232, 'gini = 0.0\\nsamples = 2\\nvalue = [0, 2]\\nclass = Glucose'),\n",
       " Text(255.8123324396783, 79.72799999999998, 'gini = 0.0\\nsamples = 3\\nvalue = [0, 3]\\nclass = Glucose'),\n",
       " Text(255.8123324396783, 108.72, 'gini = 0.0\\nsamples = 5\\nvalue = [0, 5]\\nclass = Glucose'),\n",
       " Text(266.5833780160858, 123.216, 'X[4] <= 333.5\\ngini = 0.159\\nsamples = 23\\nvalue = [2, 21]\\nclass = Glucose'),\n",
       " Text(262.99302949061666, 108.72, 'X[6] <= 1.502\\ngini = 0.087\\nsamples = 22\\nvalue = [1, 21]\\nclass = Glucose'),\n",
       " Text(259.40268096514745, 94.22399999999999, 'gini = 0.0\\nsamples = 20\\nvalue = [0, 20]\\nclass = Glucose'),\n",
       " Text(266.5833780160858, 94.22399999999999, 'X[4] <= 84.0\\ngini = 0.5\\nsamples = 2\\nvalue = [1, 1]\\nclass = Pregnancies'),\n",
       " Text(262.99302949061666, 79.72799999999998, 'gini = 0.0\\nsamples = 1\\nvalue = [1, 0]\\nclass = Pregnancies'),\n",
       " Text(270.17372654155497, 79.72799999999998, 'gini = 0.0\\nsamples = 1\\nvalue = [0, 1]\\nclass = Glucose'),\n",
       " Text(270.17372654155497, 108.72, 'gini = 0.0\\nsamples = 1\\nvalue = [1, 0]\\nclass = Pregnancies'),\n",
       " Text(245.9388739946381, 152.208, 'gini = 0.0\\nsamples = 6\\nvalue = [6, 0]\\nclass = Pregnancies'),\n",
       " Text(316.8482573726542, 166.704, 'X[4] <= 629.5\\ngini = 0.263\\nsamples = 77\\nvalue = [12, 65]\\nclass = Glucose'),\n",
       " Text(306.0772117962467, 152.208, 'X[6] <= 0.343\\ngini = 0.234\\nsamples = 74\\nvalue = [10, 64]\\nclass = Glucose'),\n",
       " Text(295.30616621983916, 137.712, 'X[5] <= 35.3\\ngini = 0.403\\nsamples = 25\\nvalue = [7, 18]\\nclass = Glucose'),\n",
       " Text(288.12546916890085, 123.216, 'X[7] <= 48.5\\ngini = 0.49\\nsamples = 14\\nvalue = [6, 8]\\nclass = Glucose'),\n",
       " Text(284.53512064343164, 108.72, 'X[7] <= 37.5\\ngini = 0.444\\nsamples = 12\\nvalue = [4, 8]\\nclass = Glucose'),\n",
       " Text(280.9447721179625, 94.22399999999999, 'X[2] <= 69.0\\ngini = 0.49\\nsamples = 7\\nvalue = [4, 3]\\nclass = Pregnancies'),\n",
       " Text(277.35442359249333, 79.72799999999998, 'gini = 0.0\\nsamples = 3\\nvalue = [3, 0]\\nclass = Pregnancies'),\n",
       " Text(284.53512064343164, 79.72799999999998, 'X[5] <= 34.2\\ngini = 0.375\\nsamples = 4\\nvalue = [1, 3]\\nclass = Glucose'),\n",
       " Text(280.9447721179625, 65.232, 'gini = 0.0\\nsamples = 3\\nvalue = [0, 3]\\nclass = Glucose'),\n",
       " Text(288.12546916890085, 65.232, 'gini = 0.0\\nsamples = 1\\nvalue = [1, 0]\\nclass = Pregnancies'),\n",
       " Text(288.12546916890085, 94.22399999999999, 'gini = 0.0\\nsamples = 5\\nvalue = [0, 5]\\nclass = Glucose'),\n",
       " Text(291.71581769437, 108.72, 'gini = 0.0\\nsamples = 2\\nvalue = [2, 0]\\nclass = Pregnancies'),\n",
       " Text(302.4868632707775, 123.216, 'X[1] <= 157.5\\ngini = 0.165\\nsamples = 11\\nvalue = [1, 10]\\nclass = Glucose'),\n",
       " Text(298.8965147453083, 108.72, 'X[7] <= 27.5\\ngini = 0.5\\nsamples = 2\\nvalue = [1, 1]\\nclass = Pregnancies'),\n",
       " Text(295.30616621983916, 94.22399999999999, 'gini = 0.0\\nsamples = 1\\nvalue = [0, 1]\\nclass = Glucose'),\n",
       " Text(302.4868632707775, 94.22399999999999, 'gini = 0.0\\nsamples = 1\\nvalue = [1, 0]\\nclass = Pregnancies'),\n",
       " Text(306.0772117962467, 108.72, 'gini = 0.0\\nsamples = 9\\nvalue = [0, 9]\\nclass = Glucose'),\n",
       " Text(316.8482573726542, 137.712, 'X[7] <= 44.0\\ngini = 0.115\\nsamples = 49\\nvalue = [3, 46]\\nclass = Glucose'),\n",
       " Text(313.25790884718504, 123.216, 'gini = 0.0\\nsamples = 35\\nvalue = [0, 35]\\nclass = Glucose'),\n",
       " Text(320.43860589812334, 123.216, 'X[7] <= 50.0\\ngini = 0.337\\nsamples = 14\\nvalue = [3, 11]\\nclass = Glucose'),\n",
       " Text(313.25790884718504, 108.72, 'X[1] <= 183.5\\ngini = 0.444\\nsamples = 3\\nvalue = [2, 1]\\nclass = Pregnancies'),\n",
       " Text(309.6675603217158, 94.22399999999999, 'gini = 0.0\\nsamples = 2\\nvalue = [2, 0]\\nclass = Pregnancies'),\n",
       " Text(316.8482573726542, 94.22399999999999, 'gini = 0.0\\nsamples = 1\\nvalue = [0, 1]\\nclass = Glucose'),\n",
       " Text(327.6193029490617, 108.72, 'X[5] <= 45.95\\ngini = 0.165\\nsamples = 11\\nvalue = [1, 10]\\nclass = Glucose'),\n",
       " Text(324.0289544235925, 94.22399999999999, 'gini = 0.0\\nsamples = 10\\nvalue = [0, 10]\\nclass = Glucose'),\n",
       " Text(331.20965147453086, 94.22399999999999, 'gini = 0.0\\nsamples = 1\\nvalue = [1, 0]\\nclass = Pregnancies'),\n",
       " Text(327.6193029490617, 152.208, 'X[5] <= 33.4\\ngini = 0.444\\nsamples = 3\\nvalue = [2, 1]\\nclass = Pregnancies'),\n",
       " Text(324.0289544235925, 137.712, 'gini = 0.0\\nsamples = 1\\nvalue = [0, 1]\\nclass = Glucose'),\n",
       " Text(331.20965147453086, 137.712, 'gini = 0.0\\nsamples = 2\\nvalue = [2, 0]\\nclass = Pregnancies')]"
      ]
     },
     "execution_count": 13,
     "metadata": {},
     "output_type": "execute_result"
    },
    {
     "data": {
      "image/png": "[encoded data removed]",
      "text/plain": [
       "<Figure size 432x288 with 1 Axes>"
      ]
     },
     "metadata": {
      "needs_background": "light"
     },
     "output_type": "display_data"
    }
   ],
   "source": [
    "from sklearn.tree import plot_tree\n",
    "plot_tree(decision_tree = decision_tree, class_names = df.columns, filled = True, rounded = True)"
   ]
  },
  {
   "cell_type": "code",
   "execution_count": 14,
   "metadata": {},
   "outputs": [
    {
     "name": "stderr",
     "output_type": "stream",
     "text": [
      "C:\\Anaconda\\lib\\site-packages\\sklearn\\model_selection\\_search.py:285: UserWarning: The total space of parameters 8 is smaller than n_iter=10. Running 8 iterations. For exhaustive searches, use GridSearchCV.\n",
      "  warnings.warn(\n"
     ]
    }
   ],
   "source": [
    "from sklearn.model_selection import GridSearchCV, RandomizedSearchCV\n",
    "hyperparameter = {'criterion':['gini', 'entropy'], 'max_depth' : list(range(2,10,2))}\n",
    "hyperparameter\n",
    "\n",
    "\n",
    "gsv = GridSearchCV(decision_tree, hyperparameter, cv = 5)\n",
    "rsv = RandomizedSearchCV(decision_tree, hyperparameter, cv = 5)\n",
    "\n",
    "best_model_gsv = gsv.fit(x_train, y_train)\n",
    "best_model_rsv = rsv.fit(x_train, y_train)"
   ]
  },
  {
   "cell_type": "code",
   "execution_count": 15,
   "metadata": {},
   "outputs": [
    {
     "data": {
      "text/plain": [
       "{'criterion': 'gini', 'max_depth': 2}"
      ]
     },
     "execution_count": 15,
     "metadata": {},
     "output_type": "execute_result"
    }
   ],
   "source": [
    "best_model_gsv.best_params_"
   ]
  },
  {
   "cell_type": "code",
   "execution_count": 16,
   "metadata": {},
   "outputs": [
    {
     "data": {
      "text/plain": [
       "{'max_depth': 2, 'criterion': 'gini'}"
      ]
     },
     "execution_count": 16,
     "metadata": {},
     "output_type": "execute_result"
    }
   ],
   "source": [
    "best_model_rsv.best_params_"
   ]
  },
  {
   "cell_type": "code",
   "execution_count": 17,
   "metadata": {},
   "outputs": [
    {
     "data": {
      "text/plain": [
       "DecisionTreeClassifier(max_depth=2)"
      ]
     },
     "execution_count": 17,
     "metadata": {},
     "output_type": "execute_result"
    }
   ],
   "source": [
    "best_model_gsv.best_estimator_"
   ]
  },
  {
   "cell_type": "code",
   "execution_count": 18,
   "metadata": {},
   "outputs": [
    {
     "data": {
      "text/plain": [
       "DecisionTreeClassifier(max_depth=2)"
      ]
     },
     "execution_count": 18,
     "metadata": {},
     "output_type": "execute_result"
    }
   ],
   "source": [
    "best_model_rsv.best_estimator_"
   ]
  },
  {
   "cell_type": "code",
   "execution_count": 19,
   "metadata": {},
   "outputs": [
    {
     "data": {
      "text/plain": [
       "0.7987012987012987"
      ]
     },
     "execution_count": 19,
     "metadata": {},
     "output_type": "execute_result"
    }
   ],
   "source": [
    "y_pred_gs = best_model_gsv.predict(x_test)\n",
    "accuracy_score(y_test, y_pred_gs)"
   ]
  },
  {
   "cell_type": "code",
   "execution_count": 20,
   "metadata": {},
   "outputs": [
    {
     "data": {
      "text/plain": [
       "0.7987012987012987"
      ]
     },
     "execution_count": 20,
     "metadata": {},
     "output_type": "execute_result"
    }
   ],
   "source": [
    "y_pred_rs = best_model_rsv.predict(x_test)\n",
    "accuracy_score(y_test, y_pred_rs)"
   ]
  },
  {
   "cell_type": "code",
   "execution_count": 21,
   "metadata": {},
   "outputs": [
    {
     "data": {
      "text/plain": [
       "array([0, 0, 0, 1, 0, 0, 1, 0, 0, 0, 1, 0, 1, 1, 1, 0, 0, 1, 0, 0, 0, 0,\n",
       "       0, 1, 0, 0, 1, 1, 0, 0, 0, 0, 0, 1, 1, 1, 0, 0, 0, 1, 0, 0, 0, 1,\n",
       "       0, 0, 0, 0, 0, 0, 0, 1, 1, 0, 1, 0, 1, 0, 0, 0, 1, 0, 0, 0, 1, 0,\n",
       "       0, 1, 1, 1, 1, 1, 0, 0, 0, 0, 1, 1, 0, 1, 0, 0, 0, 0, 0, 0, 1, 1,\n",
       "       0, 1, 0, 0, 1, 0, 1, 1, 1, 0, 1, 0, 0, 0, 1, 1, 0, 0, 0, 0, 0, 0,\n",
       "       0, 0, 0, 0, 0, 0, 0, 0, 0, 1, 0, 1, 0, 1, 0, 0, 1, 0, 0, 0, 1, 0,\n",
       "       1, 0, 0, 0, 0, 1, 0, 0, 1, 0, 0, 0, 1, 0, 0, 0, 1, 0, 0, 1, 0, 0],\n",
       "      dtype=int64)"
      ]
     },
     "execution_count": 21,
     "metadata": {},
     "output_type": "execute_result"
    }
   ],
   "source": [
    "y_pred = decision_tree.predict(x_test)\n",
    "y_pred"
   ]
  },
  {
   "cell_type": "code",
   "execution_count": 22,
   "metadata": {},
   "outputs": [
    {
     "data": {
      "text/plain": [
       "array([[1., 0.],\n",
       "       [1., 0.],\n",
       "       [1., 0.],\n",
       "       [0., 1.],\n",
       "       [1., 0.],\n",
       "       [1., 0.],\n",
       "       [0., 1.],\n",
       "       [1., 0.],\n",
       "       [1., 0.],\n",
       "       [1., 0.],\n",
       "       [0., 1.],\n",
       "       [1., 0.],\n",
       "       [0., 1.],\n",
       "       [0., 1.],\n",
       "       [0., 1.],\n",
       "       [1., 0.],\n",
       "       [1., 0.],\n",
       "       [0., 1.],\n",
       "       [1., 0.],\n",
       "       [1., 0.],\n",
       "       [1., 0.],\n",
       "       [1., 0.],\n",
       "       [1., 0.],\n",
       "       [0., 1.],\n",
       "       [1., 0.],\n",
       "       [1., 0.],\n",
       "       [0., 1.],\n",
       "       [0., 1.],\n",
       "       [1., 0.],\n",
       "       [1., 0.],\n",
       "       [1., 0.],\n",
       "       [1., 0.],\n",
       "       [1., 0.],\n",
       "       [0., 1.],\n",
       "       [0., 1.],\n",
       "       [0., 1.],\n",
       "       [1., 0.],\n",
       "       [1., 0.],\n",
       "       [1., 0.],\n",
       "       [0., 1.],\n",
       "       [1., 0.],\n",
       "       [1., 0.],\n",
       "       [1., 0.],\n",
       "       [0., 1.],\n",
       "       [1., 0.],\n",
       "       [1., 0.],\n",
       "       [1., 0.],\n",
       "       [1., 0.],\n",
       "       [1., 0.],\n",
       "       [1., 0.],\n",
       "       [1., 0.],\n",
       "       [0., 1.],\n",
       "       [0., 1.],\n",
       "       [1., 0.],\n",
       "       [0., 1.],\n",
       "       [1., 0.],\n",
       "       [0., 1.],\n",
       "       [1., 0.],\n",
       "       [1., 0.],\n",
       "       [1., 0.],\n",
       "       [0., 1.],\n",
       "       [1., 0.],\n",
       "       [1., 0.],\n",
       "       [1., 0.],\n",
       "       [0., 1.],\n",
       "       [1., 0.],\n",
       "       [1., 0.],\n",
       "       [0., 1.],\n",
       "       [0., 1.],\n",
       "       [0., 1.],\n",
       "       [0., 1.],\n",
       "       [0., 1.],\n",
       "       [1., 0.],\n",
       "       [1., 0.],\n",
       "       [1., 0.],\n",
       "       [1., 0.],\n",
       "       [0., 1.],\n",
       "       [0., 1.],\n",
       "       [1., 0.],\n",
       "       [0., 1.],\n",
       "       [1., 0.],\n",
       "       [1., 0.],\n",
       "       [1., 0.],\n",
       "       [1., 0.],\n",
       "       [1., 0.],\n",
       "       [1., 0.],\n",
       "       [0., 1.],\n",
       "       [0., 1.],\n",
       "       [1., 0.],\n",
       "       [0., 1.],\n",
       "       [1., 0.],\n",
       "       [1., 0.],\n",
       "       [0., 1.],\n",
       "       [1., 0.],\n",
       "       [0., 1.],\n",
       "       [0., 1.],\n",
       "       [0., 1.],\n",
       "       [1., 0.],\n",
       "       [0., 1.],\n",
       "       [1., 0.],\n",
       "       [1., 0.],\n",
       "       [1., 0.],\n",
       "       [0., 1.],\n",
       "       [0., 1.],\n",
       "       [1., 0.],\n",
       "       [1., 0.],\n",
       "       [1., 0.],\n",
       "       [1., 0.],\n",
       "       [1., 0.],\n",
       "       [1., 0.],\n",
       "       [1., 0.],\n",
       "       [1., 0.],\n",
       "       [1., 0.],\n",
       "       [1., 0.],\n",
       "       [1., 0.],\n",
       "       [1., 0.],\n",
       "       [1., 0.],\n",
       "       [1., 0.],\n",
       "       [1., 0.],\n",
       "       [0., 1.],\n",
       "       [1., 0.],\n",
       "       [0., 1.],\n",
       "       [1., 0.],\n",
       "       [0., 1.],\n",
       "       [1., 0.],\n",
       "       [1., 0.],\n",
       "       [0., 1.],\n",
       "       [1., 0.],\n",
       "       [1., 0.],\n",
       "       [1., 0.],\n",
       "       [0., 1.],\n",
       "       [1., 0.],\n",
       "       [0., 1.],\n",
       "       [1., 0.],\n",
       "       [1., 0.],\n",
       "       [1., 0.],\n",
       "       [1., 0.],\n",
       "       [0., 1.],\n",
       "       [1., 0.],\n",
       "       [1., 0.],\n",
       "       [0., 1.],\n",
       "       [1., 0.],\n",
       "       [1., 0.],\n",
       "       [1., 0.],\n",
       "       [0., 1.],\n",
       "       [1., 0.],\n",
       "       [1., 0.],\n",
       "       [1., 0.],\n",
       "       [0., 1.],\n",
       "       [1., 0.],\n",
       "       [1., 0.],\n",
       "       [0., 1.],\n",
       "       [1., 0.],\n",
       "       [1., 0.]])"
      ]
     },
     "execution_count": 22,
     "metadata": {},
     "output_type": "execute_result"
    }
   ],
   "source": [
    "y_pred_prob = decision_tree.predict_proba(x_test)\n",
    "y_pred_prob"
   ]
  },
  {
   "cell_type": "code",
   "execution_count": 23,
   "metadata": {},
   "outputs": [],
   "source": [
    "from sklearn.metrics import roc_auc_score, roc_curve\n",
    "fpr, tpr, threshold = roc_curve(y_test,y_pred_prob[:,1])"
   ]
  },
  {
   "cell_type": "code",
   "execution_count": 24,
   "metadata": {},
   "outputs": [
    {
     "data": {
      "text/plain": [
       "<matplotlib.legend.Legend at 0x2c093aa7f0>"
      ]
     },
     "execution_count": 24,
     "metadata": {},
     "output_type": "execute_result"
    },
    {
     "data": {
      "image/png": "[encoded data removed]",
      "text/plain": [
       "<Figure size 432x288 with 1 Axes>"
      ]
     },
     "metadata": {
      "needs_background": "light"
     },
     "output_type": "display_data"
    }
   ],
   "source": [
    "import matplotlib.pyplot as plt\n",
    "%matplotlib inline\n",
    "import seaborn as sns\n",
    "\n",
    "plt.plot(fpr, tpr, label = 'decision_tree')\n",
    "plt.xlabel('prob')\n",
    "plt.ylabel('gini')\n",
    "plt.legend(loc = 'best')"
   ]
  },
  {
   "cell_type": "code",
   "execution_count": 25,
   "metadata": {},
   "outputs": [],
   "source": [
    "import pickle\n",
    "pickle.dump(decision_tree,open('decision_model.pickle','wb'))\n"
   ]
  },
  {
   "cell_type": "code",
   "execution_count": 26,
   "metadata": {},
   "outputs": [],
   "source": [
    "import pickle\n",
    "col1 = x_test.head(5)\n",
    "pickle.dump(col1,open('test.pickle','wb'))"
   ]
  },
  {
   "cell_type": "code",
   "execution_count": 27,
   "metadata": {},
   "outputs": [
    {
     "data": {
      "text/html": [
       "<div>\n",
       "<style scoped>\n",
       "    .dataframe tbody tr th:only-of-type {\n",
       "        vertical-align: middle;\n",
       "    }\n",
       "\n",
       "    .dataframe tbody tr th {\n",
       "        vertical-align: top;\n",
       "    }\n",
       "\n",
       "    .dataframe thead th {\n",
       "        text-align: right;\n",
       "    }\n",
       "</style>\n",
       "<table border=\"1\" class=\"dataframe\">\n",
       "  <thead>\n",
       "    <tr style=\"text-align: right;\">\n",
       "      <th></th>\n",
       "      <th>Pregnancies</th>\n",
       "      <th>Glucose</th>\n",
       "      <th>BloodPressure</th>\n",
       "      <th>SkinThickness</th>\n",
       "      <th>Insulin</th>\n",
       "      <th>BMI</th>\n",
       "      <th>DiabetesPedigreeFunction</th>\n",
       "      <th>Age</th>\n",
       "    </tr>\n",
       "  </thead>\n",
       "  <tbody>\n",
       "    <tr>\n",
       "      <th>285</th>\n",
       "      <td>7</td>\n",
       "      <td>136</td>\n",
       "      <td>74</td>\n",
       "      <td>26</td>\n",
       "      <td>135</td>\n",
       "      <td>26.0</td>\n",
       "      <td>0.647</td>\n",
       "      <td>51</td>\n",
       "    </tr>\n",
       "    <tr>\n",
       "      <th>101</th>\n",
       "      <td>1</td>\n",
       "      <td>151</td>\n",
       "      <td>60</td>\n",
       "      <td>0</td>\n",
       "      <td>0</td>\n",
       "      <td>26.1</td>\n",
       "      <td>0.179</td>\n",
       "      <td>22</td>\n",
       "    </tr>\n",
       "    <tr>\n",
       "      <th>581</th>\n",
       "      <td>6</td>\n",
       "      <td>109</td>\n",
       "      <td>60</td>\n",
       "      <td>27</td>\n",
       "      <td>0</td>\n",
       "      <td>25.0</td>\n",
       "      <td>0.206</td>\n",
       "      <td>27</td>\n",
       "    </tr>\n",
       "    <tr>\n",
       "      <th>352</th>\n",
       "      <td>3</td>\n",
       "      <td>61</td>\n",
       "      <td>82</td>\n",
       "      <td>28</td>\n",
       "      <td>0</td>\n",
       "      <td>34.4</td>\n",
       "      <td>0.243</td>\n",
       "      <td>46</td>\n",
       "    </tr>\n",
       "    <tr>\n",
       "      <th>726</th>\n",
       "      <td>1</td>\n",
       "      <td>116</td>\n",
       "      <td>78</td>\n",
       "      <td>29</td>\n",
       "      <td>180</td>\n",
       "      <td>36.1</td>\n",
       "      <td>0.496</td>\n",
       "      <td>25</td>\n",
       "    </tr>\n",
       "  </tbody>\n",
       "</table>\n",
       "</div>"
      ],
      "text/plain": [
       "     Pregnancies  Glucose  BloodPressure  SkinThickness  Insulin   BMI  \\\n",
       "285            7      136             74             26      135  26.0   \n",
       "101            1      151             60              0        0  26.1   \n",
       "581            6      109             60             27        0  25.0   \n",
       "352            3       61             82             28        0  34.4   \n",
       "726            1      116             78             29      180  36.1   \n",
       "\n",
       "     DiabetesPedigreeFunction  Age  \n",
       "285                     0.647   51  \n",
       "101                     0.179   22  \n",
       "581                     0.206   27  \n",
       "352                     0.243   46  \n",
       "726                     0.496   25  "
      ]
     },
     "execution_count": 27,
     "metadata": {},
     "output_type": "execute_result"
    }
   ],
   "source": [
    "x_test.head(5)"
   ]
  },
  {
   "cell_type": "code",
   "execution_count": 28,
   "metadata": {},
   "outputs": [
    {
     "data": {
      "text/plain": [
       "array([0, 0, 0, 1, 0], dtype=int64)"
      ]
     },
     "execution_count": 28,
     "metadata": {},
     "output_type": "execute_result"
    }
   ],
   "source": [
    "y_pred = decision_tree.predict(x_test.head(5))\n",
    "y_pred"
   ]
  },
  {
   "cell_type": "code",
   "execution_count": 29,
   "metadata": {},
   "outputs": [],
   "source": [
    "# pip install -U scikit-learn"
   ]
  },
  {
   "cell_type": "code",
   "execution_count": 30,
   "metadata": {},
   "outputs": [
    {
     "name": "stdout",
     "output_type": "stream",
     "text": [
      "Requirement already satisfied: pymongo in c:\\anaconda\\lib\\site-packages (3.11.3)Note: you may need to restart the kernel to use updated packages.\n",
      "\n"
     ]
    }
   ],
   "source": [
    "pip install pymongo"
   ]
  },
  {
   "cell_type": "code",
   "execution_count": null,
   "metadata": {},
   "outputs": [],
   "source": []
  }
 ],
 "metadata": {
  "kernelspec": {
   "display_name": "Python 3",
   "language": "python",
   "name": "python3"
  },
  "language_info": {
   "codemirror_mode": {
    "name": "ipython",
    "version": 3
   },
   "file_extension": ".py",
   "mimetype": "text/x-python",
   "name": "python",
   "nbconvert_exporter": "python",
   "pygments_lexer": "ipython3",
   "version": "3.8.5"
  }
 },
 "nbformat": 4,
 "nbformat_minor": 4
}
